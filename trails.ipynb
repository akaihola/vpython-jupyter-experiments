{
 "cells": [
  {
   "cell_type": "code",
   "execution_count": null,
   "metadata": {
    "collapsed": false
   },
   "outputs": [],
   "source": [
    "from vpython import *\n",
    "from math import pi"
   ]
  },
  {
   "cell_type": "code",
   "execution_count": null,
   "metadata": {
    "collapsed": false
   },
   "outputs": [],
   "source": [
    "b = box(make_trail=True)\n",
    "d = vec(10, 0, 0)"
   ]
  },
  {
   "cell_type": "markdown",
   "metadata": {},
   "source": [
    "Running a simple loop which eventually returns an object to its original location fails to draw the trails:"
   ]
  },
  {
   "cell_type": "code",
   "execution_count": null,
   "metadata": {
    "collapsed": false
   },
   "outputs": [],
   "source": [
    "for i in range(8):\n",
    "    b.pos += d\n",
    "    d = rotate(d, pi / 4, vec(0, 0, 1))"
   ]
  },
  {
   "cell_type": "code",
   "execution_count": null,
   "metadata": {
    "collapsed": false
   },
   "outputs": [],
   "source": [
    "for i in range(8):\n",
    "    b.pos += d\n",
    "    d = rotate(d, -pi / 4, vec(0, 0, 1))"
   ]
  },
  {
   "cell_type": "markdown",
   "metadata": {},
   "source": [
    "Running with `scene.waitfor('redraw')` occasionally skips a corner when connecting trails:"
   ]
  },
  {
   "cell_type": "code",
   "execution_count": null,
   "metadata": {
    "collapsed": false
   },
   "outputs": [],
   "source": [
    "for i in range(8):\n",
    "    b.pos += d\n",
    "    d = rotate(d, pi / 4, vec(0, 0, 1))\n",
    "    scene.waitfor('redraw')"
   ]
  },
  {
   "cell_type": "code",
   "execution_count": null,
   "metadata": {
    "collapsed": false
   },
   "outputs": [],
   "source": [
    "for i in range(8):\n",
    "    b.pos += d\n",
    "    d = rotate(d, -pi / 4, vec(0, 0, 1))\n",
    "    scene.waitfor('redraw')"
   ]
  },
  {
   "cell_type": "markdown",
   "metadata": {},
   "source": [
    "Adding a `scene.waitfor('draw_complete')` seems to get rid of skipped corners,\n",
    "but if you execute the following two cells in a rapid succession,\n",
    "the results are surprising: the second octagon is drawn in the middle of the first one."
   ]
  },
  {
   "cell_type": "code",
   "execution_count": null,
   "metadata": {
    "collapsed": false
   },
   "outputs": [],
   "source": [
    "for i in range(8):\n",
    "    b.pos += d\n",
    "    d = rotate(d, pi / 4, vec(0, 0, 1))\n",
    "    scene.waitfor('redraw')\n",
    "    scene.waitfor('draw_complete')"
   ]
  },
  {
   "cell_type": "code",
   "execution_count": null,
   "metadata": {
    "collapsed": false
   },
   "outputs": [],
   "source": [
    "for i in range(8):\n",
    "    b.pos += d\n",
    "    d = rotate(d, -pi / 4, vec(0, 0, 1))\n",
    "    scene.waitfor('redraw')\n",
    "    scene.waitfor('draw_complete')"
   ]
  },
  {
   "cell_type": "markdown",
   "metadata": {},
   "source": [
    "The `rate()` function doesn't seem to help either:"
   ]
  },
  {
   "cell_type": "code",
   "execution_count": null,
   "metadata": {
    "collapsed": false
   },
   "outputs": [],
   "source": [
    "for i in range(8):\n",
    "    rate(10)\n",
    "    b.pos += d\n",
    "    d = rotate(d, pi / 4, vec(0, 0, 1))"
   ]
  },
  {
   "cell_type": "code",
   "execution_count": null,
   "metadata": {
    "collapsed": false
   },
   "outputs": [],
   "source": [
    "for i in range(8):\n",
    "    rate(10)\n",
    "    b.pos += d\n",
    "    d = rotate(d, -pi / 4, vec(0, 0, 1))"
   ]
  }
 ],
 "metadata": {
  "kernelspec": {
   "display_name": "VPython",
   "language": "python",
   "name": "vpython"
  },
  "language_info": {
   "codemirror_mode": {
    "name": "ipython",
    "version": 3
   },
   "file_extension": ".py",
   "mimetype": "text/x-python",
   "name": "python",
   "nbconvert_exporter": "python",
   "pygments_lexer": "ipython3",
   "version": "3.5.1"
  }
 },
 "nbformat": 4,
 "nbformat_minor": 0
}
